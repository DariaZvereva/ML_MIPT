{
 "cells": [
  {
   "cell_type": "markdown",
   "metadata": {
    "collapsed": true
   },
   "source": [
    "<h1> Deep Learning Seminar 1</h1>\n",
    "\n",
    "Credit cs231n.stanford.edu"
   ]
  },
  {
   "cell_type": "markdown",
   "metadata": {},
   "source": [
    "<h2 align=\"center\">What was at Lecture?</h2>\n",
    "\n",
    "- Image Classification \n",
    "\n",
    "<img src=\"img/img-clf.png\" width=\"600\">\n",
    "\n",
    "- Linear Models (Что делает линейная модель простым языком)\n",
    "\n",
    "<img src=\"img/lm.png\" width=\"600\">\n",
    "<img src=\"img/lm-int.png\" width=\"600\">\n",
    "\n",
    "- Fully Connected Neural Nets\n",
    "\n",
    "<img src=\"img/fc-net.png\" width=\"600\">\n",
    "\n",
    "- Convolution Neural Nets (Какая мотивация при переходе к сверткам?)\n",
    "\n",
    "<img src=\"img/conv.png\" width=\"600\">\n",
    "\n",
    "- Зачем нужен backprop? \n",
    "\n",
    "<img src=\"img/bp.png\" width=\"600\">\n",
    "\n",
    "The `forward` function will receive inputs, weights, and other parameters and will return both an output and a `cache` object storing data needed for the backward pass, like this:\n",
    "\n",
    "```python\n",
    "def layer_forward(x, w):\n",
    "  \"\"\" Receive inputs x and weights w \"\"\"\n",
    "  # Do some computations ...\n",
    "  z = # ... some intermediate value\n",
    "  # Do some more computations ...\n",
    "  out = # the output\n",
    "   \n",
    "  cache = (x, w, z, out) # Values we need to compute gradients\n",
    "   \n",
    "  return out, cache\n",
    "```\n",
    "\n",
    "The backward pass will receive upstream derivatives and the `cache` object, and will return gradients with respect to the inputs and weights, like this:\n",
    "\n",
    "```python\n",
    "def layer_backward(dout, cache):\n",
    "  \"\"\"\n",
    "  Receive derivative of loss with respect to outputs and cache,\n",
    "  and compute derivative with respect to inputs.\n",
    "  \"\"\"\n",
    "  # Unpack cache values\n",
    "  x, w, z, out = cache\n",
    "  \n",
    "  # Use values in cache to compute derivatives\n",
    "  dx = # Derivative of loss with respect to x\n",
    "  dw = # Derivative of loss with respect to w\n",
    "  \n",
    "  return dx, dw\n",
    "```\n",
    "\n",
    "\n",
    "- Что нужно накрутить на SGD чтобы получить хорошие методы стах оптимизации?\n",
    "\n",
    "<img src=\"img/adam.png\" width=\"600\">"
   ]
  },
  {
   "cell_type": "markdown",
   "metadata": {},
   "source": [
    "<h2 align=\"center\">BackProp and Optimizers</h2>"
   ]
  },
  {
   "cell_type": "code",
   "execution_count": 9,
   "metadata": {
    "collapsed": false
   },
   "outputs": [],
   "source": [
    "import numpy as np\n",
    "from scipy.optimize import check_grad\n",
    "from gradient_check import eval_numerical_gradient_array\n",
    "\n",
    "def rel_error(x, y):\n",
    "      return np.max(np.abs(x - y) / (np.maximum(1e-8, np.abs(x) + np.abs(y))))"
   ]
  },
  {
   "cell_type": "markdown",
   "metadata": {},
   "source": [
    "<h3>Grad Check</h3>"
   ]
  },
  {
   "cell_type": "markdown",
   "metadata": {
    "collapsed": true
   },
   "source": [
    "<img src=\"img/gc.png\" width=\"600\">"
   ]
  },
  {
   "cell_type": "markdown",
   "metadata": {},
   "source": [
    "<h3>Softmax Loss Layer</h3>\n",
    "<img src=\"img/loss.png\" width=\"300\">\n",
    "<img src=\"img/log.png\" width=\"600\">"
   ]
  },
  {
   "cell_type": "code",
   "execution_count": 10,
   "metadata": {
    "collapsed": true
   },
   "outputs": [],
   "source": [
    " def softmax_loss(x, y):\n",
    "    \"\"\"\n",
    "    Computes the loss and gradient for softmax classification.\n",
    "\n",
    "    Inputs:\n",
    "    - x: Input data, of shape (N, C) where x[i, j] is the score for the jth class\n",
    "    for the ith input.\n",
    "    - y: Vector of labels, of shape (N,) where y[i] is the label for x[i] and\n",
    "    0 <= y[i] < C\n",
    "\n",
    "    Returns a tuple of:\n",
    "    - loss: Scalar giving the loss\n",
    "    - dx: Gradient of the loss with respect to x\n",
    "    \"\"\"\n",
    "    probabilities = np.exp(x - np.max(x, axis=1, keepdims=True))\n",
    "    probabilities /= np.sum(probabilities, axis=1, keepdims=True)\n",
    "    \n",
    "    loss = -np.sum(np.log(probabilities[np.arange(x.shape[0]), y]+1e-8)) / x.shape[0]\n",
    "\n",
    "    dx = probabilities.copy()\n",
    "    dx[np.arange(x.shape[0]), y] -= 1\n",
    "    dx /= x.shape[0]\n",
    "    \n",
    "    return loss, dx"
   ]
  },
  {
   "cell_type": "code",
   "execution_count": 11,
   "metadata": {
    "collapsed": true
   },
   "outputs": [],
   "source": [
    "y = np.random.randint(0, 3, 10)\n",
    "dx = lambda x: softmax_loss(x.reshape((10, 3)), y)[1].reshape(-1)\n",
    "loss = lambda x: softmax_loss(x.reshape((10, 3)), y)[0]"
   ]
  },
  {
   "cell_type": "code",
   "execution_count": 12,
   "metadata": {
    "collapsed": false
   },
   "outputs": [
    {
     "name": "stdout",
     "output_type": "stream",
     "text": [
      "loss is a scalar\n",
      " 1.20140256775\n"
     ]
    }
   ],
   "source": [
    "print ('loss is a scalar\\n', loss(np.random.random((10, 3))))"
   ]
  },
  {
   "cell_type": "code",
   "execution_count": 13,
   "metadata": {
    "collapsed": false
   },
   "outputs": [
    {
     "name": "stdout",
     "output_type": "stream",
     "text": [
      "gradient is a matrix with shape 10x3\n",
      " [ 0.03396904 -0.06836988  0.03440084  0.02437604 -0.0645053   0.04012926\n",
      "  0.03196209  0.03743329 -0.06939538  0.02297342 -0.05816115  0.03518774\n",
      " -0.05976153  0.0299827   0.02977883  0.04129687 -0.06410454  0.02280767\n",
      "  0.03095398  0.03322308 -0.06417706  0.0228719   0.04003603 -0.06290793\n",
      "  0.02839834  0.02889728 -0.05729563  0.04029172 -0.07095182  0.0306601 ]\n"
     ]
    }
   ],
   "source": [
    "print ('gradient is a matrix with shape 10x3\\n', dx(np.random.random((10, 3))))"
   ]
  },
  {
   "cell_type": "code",
   "execution_count": 14,
   "metadata": {
    "collapsed": false
   },
   "outputs": [
    {
     "name": "stdout",
     "output_type": "stream",
     "text": [
      "difference should be ~10e-8 4.06917386559e-08\n"
     ]
    }
   ],
   "source": [
    "print ('difference should be ~10e-8', check_grad(loss, dx, np.random.random((10, 3)).reshape(-1)))"
   ]
  },
  {
   "cell_type": "markdown",
   "metadata": {},
   "source": [
    "<h3>Dense Layer</h3>\n",
    "<img src=\"img/lin.png\" width=\"300\">"
   ]
  },
  {
   "cell_type": "code",
   "execution_count": 17,
   "metadata": {
    "collapsed": true
   },
   "outputs": [],
   "source": [
    "def affine_forward(x, w, b):\n",
    "    \"\"\"\n",
    "    Computes the forward pass for an affine (fully-connected) layer.\n",
    "\n",
    "    The input x has shape (N, d_1, ..., d_k) and contains a minibatch of N\n",
    "    examples, where each example x[i] has shape (d_1, ..., d_k). We will\n",
    "    reshape each input into a vector of dimension D = d_1 * ... * d_k, and\n",
    "    then transform it to an output vector of dimension M.\n",
    "\n",
    "    Inputs:\n",
    "    - x: A numpy array containing input data, of shape (N, d_1, ..., d_k)\n",
    "    - w: A numpy array of weights, of shape (D, M)\n",
    "    - b: A numpy array of biases, of shape (M,)\n",
    "\n",
    "    Returns a tuple of:\n",
    "    - out: output, of shape (N, M)\n",
    "    - cache: (x, w, b)\n",
    "    \"\"\"\n",
    "    out = None\n",
    "    #############################################################################\n",
    "    # TODO: Implement the affine forward pass. Store the result in out. You     #\n",
    "    # will need to reshape the input into rows.                                 #\n",
    "    #############################################################################\n",
    "    newx = x.reshape((x.shape[0],-1))\n",
    "    out = newx.dot(w) + b\n",
    "    cache = (x, w, b)\n",
    "    return out, cache"
   ]
  },
  {
   "cell_type": "code",
   "execution_count": 18,
   "metadata": {
    "collapsed": false
   },
   "outputs": [
    {
     "name": "stdout",
     "output_type": "stream",
     "text": [
      "Testing affine_forward function:\n",
      "difference:  9.76985004799e-10\n"
     ]
    }
   ],
   "source": [
    "# Test the affine_forward function\n",
    "\n",
    "num_inputs = 2\n",
    "input_shape = (4, 5, 6)\n",
    "output_dim = 3\n",
    "\n",
    "input_size = num_inputs * np.prod(input_shape)\n",
    "weight_size = output_dim * np.prod(input_shape)\n",
    "\n",
    "x = np.linspace(-0.1, 0.5, num=input_size).reshape(num_inputs, *input_shape)\n",
    "w = np.linspace(-0.2, 0.3, num=weight_size).reshape(np.prod(input_shape), output_dim)\n",
    "b = np.linspace(-0.3, 0.1, num=output_dim)\n",
    "\n",
    "out, _ = affine_forward(x, w, b)\n",
    "correct_out = np.array([[ 1.49834967,  1.70660132,  1.91485297],\n",
    "                        [ 3.25553199,  3.5141327,   3.77273342]])\n",
    "\n",
    "# Compare your output with ours. The error should be around 1e-9.\n",
    "print ('Testing affine_forward function:')\n",
    "print ('difference: ', rel_error(out, correct_out))"
   ]
  },
  {
   "cell_type": "code",
   "execution_count": 19,
   "metadata": {
    "collapsed": true
   },
   "outputs": [],
   "source": [
    "def affine_backward(dout, cache):\n",
    "    \"\"\"\n",
    "    Computes the backward pass for an affine layer.\n",
    "\n",
    "    Inputs:\n",
    "    - dout: Upstream derivative, of shape (N, M)\n",
    "    - cache: Tuple of:\n",
    "    - x: Input data, of shape (N, d_1, ... d_k)\n",
    "    - w: Weights, of shape (D, M)\n",
    "\n",
    "    Returns a tuple of:\n",
    "    - dx: Gradient with respect to x, of shape (N, d1, ..., d_k)\n",
    "    - dw: Gradient with respect to w, of shape (D, M)\n",
    "    - db: Gradient with respect to b, of shape (M,)\n",
    "    \"\"\"\n",
    "    x, w, b = cache\n",
    "    dx, dw, db = None, None, None\n",
    "    #############################################################################\n",
    "    # TODO: Implement the affine backward pass.                                 #\n",
    "    #############################################################################\n",
    "    \n",
    "    D = np.prod(x.shape[1:])\n",
    "    x_1 = np.reshape(x, (x.shape[0], D))\n",
    "\n",
    "    dx_1 = np.dot(dout, w.T) \n",
    "    dw = np.dot(x_1.T, dout) \n",
    "    db = np.dot(dout.T, np.ones(x.shape[0]))\n",
    "\n",
    "    dx = np.reshape(dx_1, x.shape)\n",
    "    return dx, dw, db"
   ]
  },
  {
   "cell_type": "code",
   "execution_count": 20,
   "metadata": {
    "collapsed": false
   },
   "outputs": [
    {
     "name": "stdout",
     "output_type": "stream",
     "text": [
      "Testing affine_backward function:\n",
      "dx error:  1.4557347183e-10\n",
      "dw error:  3.18876111191e-10\n",
      "db error:  2.84536185975e-11\n"
     ]
    }
   ],
   "source": [
    "# Test the affine_backward function\n",
    "\n",
    "x = np.random.randn(10, 2, 3)\n",
    "w = np.random.randn(6, 5)\n",
    "b = np.random.randn(5)\n",
    "dout = np.random.randn(10, 5)\n",
    "\n",
    "dx_num = eval_numerical_gradient_array(lambda x: affine_forward(x, w, b)[0], x, dout)\n",
    "dw_num = eval_numerical_gradient_array(lambda w: affine_forward(x, w, b)[0], w, dout)\n",
    "db_num = eval_numerical_gradient_array(lambda b: affine_forward(x, w, b)[0], b, dout)\n",
    "\n",
    "_, cache = affine_forward(x, w, b)\n",
    "dx, dw, db = affine_backward(dout, cache)\n",
    "\n",
    "# The error should be around 1e-10\n",
    "print ('Testing affine_backward function:')\n",
    "print ('dx error: ', rel_error(dx_num, dx))\n",
    "print ('dw error: ', rel_error(dw_num, dw))\n",
    "print ('db error: ', rel_error(db_num, db))"
   ]
  },
  {
   "cell_type": "markdown",
   "metadata": {},
   "source": [
    "<h3>ReLu Layer</h3>\n",
    "\n",
    "$$ReLu(x) = max(0, x)$$"
   ]
  },
  {
   "cell_type": "code",
   "execution_count": 21,
   "metadata": {
    "collapsed": true
   },
   "outputs": [],
   "source": [
    "def relu_forward(x):\n",
    "    \"\"\"\n",
    "    Computes the forward pass for a layer of rectified linear units (ReLUs).\n",
    "\n",
    "    Input:\n",
    "    - x: Inputs, of any shape\n",
    "\n",
    "    Returns a tuple of:\n",
    "    - out: Output, of the same shape as x\n",
    "    - cache: x\n",
    "    \"\"\"\n",
    "    out = (x>0) * x\n",
    "    cache = x\n",
    "    return out, cache"
   ]
  },
  {
   "cell_type": "code",
   "execution_count": 22,
   "metadata": {
    "collapsed": false
   },
   "outputs": [
    {
     "name": "stdout",
     "output_type": "stream",
     "text": [
      "Testing relu_forward function:\n",
      "difference:  4.99999979802e-08\n"
     ]
    }
   ],
   "source": [
    "# Test the relu_forward function\n",
    "\n",
    "x = np.linspace(-0.5, 0.5, num=12).reshape(3, 4)\n",
    "\n",
    "out, _ = relu_forward(x)\n",
    "correct_out = np.array([[ 0.,          0.,          0.,          0.,        ],\n",
    "                        [ 0.,          0.,          0.04545455,  0.13636364,],\n",
    "                        [ 0.22727273,  0.31818182,  0.40909091,  0.5,       ]])\n",
    "\n",
    "# Compare your output with ours. The error should be around 1e-8\n",
    "print ('Testing relu_forward function:')\n",
    "print ('difference: ', rel_error(out, correct_out))"
   ]
  },
  {
   "cell_type": "code",
   "execution_count": 23,
   "metadata": {
    "collapsed": true
   },
   "outputs": [],
   "source": [
    "def relu_backward(dout, cache):\n",
    "    \"\"\"\n",
    "    Computes the backward pass for a layer of rectified linear units (ReLUs).\n",
    "\n",
    "    Input:\n",
    "    - dout: Upstream derivatives, of any shape\n",
    "    - cache: Input x, of same shape as dout\n",
    "\n",
    "    Returns:\n",
    "    - dx: Gradient with respect to x\n",
    "    \"\"\"\n",
    "    x = cache\n",
    "    dx = dout * (x >= 0) \n",
    "    dx = dx.reshape(*x.shape)\n",
    "    return dx"
   ]
  },
  {
   "cell_type": "code",
   "execution_count": 24,
   "metadata": {
    "collapsed": false
   },
   "outputs": [
    {
     "name": "stdout",
     "output_type": "stream",
     "text": [
      "Testing relu_backward function:\n",
      "dx error:  3.27562668013e-12\n"
     ]
    }
   ],
   "source": [
    "x = np.random.randn(10, 10)\n",
    "dout = np.random.randn(*x.shape)\n",
    "\n",
    "dx_num = eval_numerical_gradient_array(lambda x: relu_forward(x)[0], x, dout)\n",
    "\n",
    "_, cache = relu_forward(x)\n",
    "dx = relu_backward(dout, cache)\n",
    "\n",
    "# The error should be around 1e-12\n",
    "print ('Testing relu_backward function:')\n",
    "print ('dx error: ', rel_error(dx_num, dx))"
   ]
  },
  {
   "cell_type": "markdown",
   "metadata": {},
   "source": [
    "<h3>Two Layer Fully Connected Neural Net with SGD</h3>"
   ]
  },
  {
   "cell_type": "code",
   "execution_count": 25,
   "metadata": {
    "collapsed": false
   },
   "outputs": [
    {
     "name": "stdout",
     "output_type": "stream",
     "text": [
      "Populating the interactive namespace from numpy and matplotlib\n"
     ]
    }
   ],
   "source": [
    "from sklearn.datasets import load_digits\n",
    "from sklearn.metrics import accuracy_score\n",
    "from sklearn.model_selection import train_test_split\n",
    "\n",
    "%pylab inline\n",
    "\n",
    "X, y = load_digits(return_X_y=True)\n",
    "X_train, X_test, y_train, y_test = train_test_split(X, y, train_size=0.7)"
   ]
  },
  {
   "cell_type": "code",
   "execution_count": 26,
   "metadata": {
    "collapsed": false
   },
   "outputs": [
    {
     "data": {
      "text/plain": [
       "<matplotlib.image.AxesImage at 0x7f4e50105240>"
      ]
     },
     "execution_count": 26,
     "metadata": {},
     "output_type": "execute_result"
    },
    {
     "data": {
      "image/png": "[encoded data removed]",
      "text/plain": [
       "<matplotlib.figure.Figure at 0x7f4e5675ff28>"
      ]
     },
     "metadata": {},
     "output_type": "display_data"
    }
   ],
   "source": [
    "pylab.imshow(X[5].reshape((8, 8)), cmap='gray')"
   ]
  },
  {
   "cell_type": "code",
   "execution_count": 28,
   "metadata": {
    "collapsed": false,
    "scrolled": false
   },
   "outputs": [
    {
     "name": "stdout",
     "output_type": "stream",
     "text": [
      "epoch 0:\n",
      "\t tr_loss 16.76\n",
      "\t te_loss 15.95\n",
      "\t te_acc 0.101851851852\n",
      "epoch 1000:\n",
      "\t tr_loss 3.81\n",
      "\t te_loss 3.75\n",
      "\t te_acc 0.698148148148\n",
      "epoch 2000:\n",
      "\t tr_loss 2.57\n",
      "\t te_loss 2.33\n",
      "\t te_acc 0.805555555556\n",
      "epoch 3000:\n",
      "\t tr_loss 1.48\n",
      "\t te_loss 1.56\n",
      "\t te_acc 0.857407407407\n",
      "epoch 4000:\n",
      "\t tr_loss 1.16\n",
      "\t te_loss 1.39\n",
      "\t te_acc 0.875925925926\n",
      "epoch 5000:\n",
      "\t tr_loss 1.08\n",
      "\t te_loss 1.20\n",
      "\t te_acc 0.892592592593\n",
      "epoch 6000:\n",
      "\t tr_loss 0.49\n",
      "\t te_loss 1.04\n",
      "\t te_acc 0.901851851852\n",
      "epoch 7000:\n",
      "\t tr_loss 0.93\n",
      "\t te_loss 1.19\n",
      "\t te_acc 0.890740740741\n",
      "epoch 8000:\n",
      "\t tr_loss 0.25\n",
      "\t te_loss 1.08\n",
      "\t te_acc 0.909259259259\n",
      "epoch 9000:\n",
      "\t tr_loss 0.37\n",
      "\t te_loss 0.91\n",
      "\t te_acc 0.905555555556\n",
      "epoch 10000:\n",
      "\t tr_loss 0.21\n",
      "\t te_loss 0.98\n",
      "\t te_acc 0.9\n",
      "epoch 11000:\n",
      "\t tr_loss 0.19\n",
      "\t te_loss 0.92\n",
      "\t te_acc 0.911111111111\n",
      "epoch 12000:\n",
      "\t tr_loss 0.09\n",
      "\t te_loss 0.95\n",
      "\t te_acc 0.907407407407\n",
      "epoch 13000:\n",
      "\t tr_loss 0.53\n",
      "\t te_loss 1.13\n",
      "\t te_acc 0.901851851852\n",
      "epoch 14000:\n",
      "\t tr_loss 0.33\n",
      "\t te_loss 0.82\n",
      "\t te_acc 0.918518518519\n",
      "epoch 15000:\n",
      "\t tr_loss 0.30\n",
      "\t te_loss 0.84\n",
      "\t te_acc 0.911111111111\n",
      "epoch 16000:\n",
      "\t tr_loss 0.34\n",
      "\t te_loss 0.91\n",
      "\t te_acc 0.914814814815\n",
      "epoch 17000:\n",
      "\t tr_loss 0.24\n",
      "\t te_loss 0.90\n",
      "\t te_acc 0.912962962963\n",
      "epoch 18000:\n",
      "\t tr_loss 0.01\n",
      "\t te_loss 0.84\n",
      "\t te_acc 0.911111111111\n",
      "epoch 19000:\n",
      "\t tr_loss 0.09\n",
      "\t te_loss 0.85\n",
      "\t te_acc 0.901851851852\n",
      "epoch 20000:\n",
      "\t tr_loss 0.18\n",
      "\t te_loss 0.84\n",
      "\t te_acc 0.914814814815\n",
      "epoch 21000:\n",
      "\t tr_loss 0.18\n",
      "\t te_loss 0.93\n",
      "\t te_acc 0.905555555556\n",
      "epoch 22000:\n",
      "\t tr_loss 0.02\n",
      "\t te_loss 0.85\n",
      "\t te_acc 0.909259259259\n",
      "epoch 23000:\n",
      "\t tr_loss 0.10\n",
      "\t te_loss 0.84\n",
      "\t te_acc 0.914814814815\n",
      "epoch 24000:\n",
      "\t tr_loss 0.20\n",
      "\t te_loss 0.80\n",
      "\t te_acc 0.916666666667\n",
      "epoch 25000:\n",
      "\t tr_loss 0.13\n",
      "\t te_loss 0.85\n",
      "\t te_acc 0.909259259259\n",
      "epoch 26000:\n",
      "\t tr_loss 0.01\n",
      "\t te_loss 0.82\n",
      "\t te_acc 0.912962962963\n",
      "epoch 27000:\n",
      "\t tr_loss 0.13\n",
      "\t te_loss 0.81\n",
      "\t te_acc 0.922222222222\n",
      "epoch 28000:\n",
      "\t tr_loss 0.09\n",
      "\t te_loss 0.83\n",
      "\t te_acc 0.916666666667\n",
      "epoch 29000:\n",
      "\t tr_loss 0.01\n",
      "\t te_loss 0.79\n",
      "\t te_acc 0.922222222222\n",
      "epoch 30000:\n",
      "\t tr_loss 0.02\n",
      "\t te_loss 0.80\n",
      "\t te_acc 0.918518518519\n",
      "epoch 31000:\n",
      "\t tr_loss 0.01\n",
      "\t te_loss 0.78\n",
      "\t te_acc 0.922222222222\n",
      "epoch 32000:\n",
      "\t tr_loss 0.05\n",
      "\t te_loss 0.80\n",
      "\t te_acc 0.918518518519\n",
      "epoch 33000:\n",
      "\t tr_loss 0.10\n",
      "\t te_loss 0.85\n",
      "\t te_acc 0.918518518519\n",
      "epoch 34000:\n",
      "\t tr_loss 0.01\n",
      "\t te_loss 0.79\n",
      "\t te_acc 0.918518518519\n",
      "epoch 35000:\n",
      "\t tr_loss 0.09\n",
      "\t te_loss 0.82\n",
      "\t te_acc 0.905555555556\n",
      "epoch 36000:\n",
      "\t tr_loss 0.04\n",
      "\t te_loss 0.79\n",
      "\t te_acc 0.92037037037\n",
      "epoch 37000:\n",
      "\t tr_loss 0.01\n",
      "\t te_loss 0.78\n",
      "\t te_acc 0.924074074074\n",
      "epoch 38000:\n",
      "\t tr_loss 0.00\n",
      "\t te_loss 0.78\n",
      "\t te_acc 0.92037037037\n",
      "epoch 39000:\n",
      "\t tr_loss 0.00\n",
      "\t te_loss 0.77\n",
      "\t te_acc 0.925925925926\n",
      "epoch 40000:\n",
      "\t tr_loss 0.00\n",
      "\t te_loss 0.77\n",
      "\t te_acc 0.925925925926\n",
      "epoch 41000:\n",
      "\t tr_loss 0.03\n",
      "\t te_loss 0.76\n",
      "\t te_acc 0.924074074074\n",
      "epoch 42000:\n",
      "\t tr_loss 0.01\n",
      "\t te_loss 0.77\n",
      "\t te_acc 0.922222222222\n",
      "epoch 43000:\n",
      "\t tr_loss 0.05\n",
      "\t te_loss 0.76\n",
      "\t te_acc 0.924074074074\n",
      "epoch 44000:\n",
      "\t tr_loss 0.00\n",
      "\t te_loss 0.77\n",
      "\t te_acc 0.92037037037\n",
      "epoch 45000:\n",
      "\t tr_loss 0.02\n",
      "\t te_loss 0.77\n",
      "\t te_acc 0.925925925926\n",
      "epoch 46000:\n",
      "\t tr_loss 0.00\n",
      "\t te_loss 0.76\n",
      "\t te_acc 0.924074074074\n",
      "epoch 47000:\n",
      "\t tr_loss 0.03\n",
      "\t te_loss 0.76\n",
      "\t te_acc 0.924074074074\n",
      "epoch 48000:\n",
      "\t tr_loss 0.03\n",
      "\t te_loss 0.77\n",
      "\t te_acc 0.925925925926\n",
      "epoch 49000:\n",
      "\t tr_loss 0.03\n",
      "\t te_loss 0.75\n",
      "\t te_acc 0.922222222222\n"
     ]
    }
   ],
   "source": [
    "W1, b1 = np.random.random((64, 100)), np.random.random(100)\n",
    "W2, b2 = np.random.random((100, 10)), np.random.random(10)\n",
    "\n",
    "lr = 1e-4\n",
    "\n",
    "for i in range(50000):\n",
    "    batch_index = np.random.randint(0, X_train.shape[0], 100)\n",
    "    batch_X, batch_y = X_train[batch_index], y_train[batch_index]\n",
    "    \n",
    "    # ------------ Train ----------------- \n",
    "    # Forward Pass\n",
    "    out1, cache1 = affine_forward(batch_X, W1, b1) # Dense Layer\n",
    "    out2, cache2 = relu_forward(out1)              # ReLu Layer\n",
    "    out3, cache3 = affine_forward(out2, W2, b2) # Dense Layer \n",
    "    tr_loss, dx = softmax_loss(out3, batch_y)      # Loss Layer \n",
    "    \n",
    "    # Backward Pass\n",
    "    dx, dW2, db2 = affine_backward(dx, cache3)\n",
    "    dx = relu_backward(dx, cache2)\n",
    "    dx, dW1, db1 = affine_backward(dx, cache1)\n",
    "    \n",
    "    # Updates\n",
    "    W2 -= lr * dW2\n",
    "    b2 -= lr * db2\n",
    "    W1 -= lr * dW1\n",
    "    b1 -= lr * db1\n",
    "    \n",
    "    # ------------ Test ----------------- \n",
    "    # Forward Pass\n",
    "    out1, cache1 = affine_forward(X_test, W1, b1) # Dense Layer\n",
    "    out2, cache2 = relu_forward(out1)              # ReLu Layer\n",
    "    out3, cache3 = affine_forward(out2, W2, b2) # Dense Layer \n",
    "    te_loss, dx = softmax_loss(out3, y_test)         # Loss Layer\n",
    "    \n",
    "    # Predict\n",
    "    probs = np.exp(out3 - np.max(out3, axis=1, keepdims=True))\n",
    "    probs /= np.sum(probs, axis=1, keepdims=True)\n",
    "    y_pred = np.argmax(probs, axis=1)\n",
    "    if i % 1000 == 0:\n",
    "        print ('epoch %s:' % i,) \n",
    "        print ('\\t tr_loss %.2f' % tr_loss,)\n",
    "        print ('\\t te_loss %.2f' % te_loss,)\n",
    "        print ('\\t te_acc %s' % accuracy_score(y_pred, y_test))"
   ]
  },
  {
   "cell_type": "markdown",
   "metadata": {},
   "source": [
    "<h2 align=\"center\">What is the challenge? </h2>\n",
    "\n",
    "You will see in Assignment 1:\n",
    "- more layers and architectures (Dropout, Convolution, Pooling)\n",
    "- optimization (Momentum, Adam)\n",
    "- weight initialization \n",
    "- data augmentation \n",
    "- ...\n",
    "\n",
    "<img src=\"img/rw.png\" width=\"900\">"
   ]
  },
  {
   "cell_type": "code",
   "execution_count": null,
   "metadata": {
    "collapsed": true
   },
   "outputs": [],
   "source": []
  }
 ],
 "metadata": {
  "kernelspec": {
   "display_name": "Python 3",
   "language": "python",
   "name": "python3"
  },
  "language_info": {
   "codemirror_mode": {
    "name": "ipython",
    "version": 3
   },
   "file_extension": ".py",
   "mimetype": "text/x-python",
   "name": "python",
   "nbconvert_exporter": "python",
   "pygments_lexer": "ipython3",
   "version": "3.5.1"
  }
 },
 "nbformat": 4,
 "nbformat_minor": 2
}
