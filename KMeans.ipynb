{
 "cells": [
  {
   "cell_type": "code",
   "execution_count": 1,
   "metadata": {
    "collapsed": true
   },
   "outputs": [],
   "source": [
    "import os\n",
    "import time\n",
    "import warnings\n",
    "import datetime\n",
    "import numpy as np\n",
    "import pandas as pd\n",
    "import random\n",
    "from sklearn.metrics import accuracy_score as acc\n",
    "from sklearn.model_selection import cross_val_score\n",
    "\n",
    "import pylab\n",
    "\n",
    "from matplotlib import pyplot as plt\n",
    "from matplotlib.colors import ListedColormap\n",
    "\n",
    "\n",
    "from IPython.display import Image, SVG\n",
    "\n",
    "%matplotlib inline"
   ]
  },
  {
   "cell_type": "code",
   "execution_count": 2,
   "metadata": {
    "collapsed": true
   },
   "outputs": [],
   "source": [
    "class KMeans():\n",
    "    def __init__(self, K, X=None, N=0):\n",
    "        self.K = K\n",
    "        if X == None:\n",
    "            if N == 0:\n",
    "                raise Exception(\"If no data is provided, \\\n",
    "                                 a parameter N (number of points) is needed\")\n",
    "            else:\n",
    "                self.N = N\n",
    "                self.X = self._init_board_gauss(N, K)\n",
    "        else:\n",
    "            self.X = X\n",
    "            self.N = len(X)\n",
    "        self.mu = None # a list of centers of clusters\n",
    "        self.clusters = None # labels of samples\n",
    "        self.method = None # method for sampling initial centers of clusters\n",
    " \n",
    "    def _init_board_gauss(self, N, k):\n",
    "        n = float(N)/k\n",
    "        X = []\n",
    "        for i in range(k):\n",
    "            c = (random.uniform(-1,1), random.uniform(-1,1))\n",
    "            s = random.uniform(0.05,0.15)\n",
    "            x = []\n",
    "            while len(x) < n:\n",
    "                a,b = np.array([np.random.normal(c[0],s),np.random.normal(c[1],s)])\n",
    "                # Continue drawing points from the distribution in the range [-1,1]\n",
    "                if abs(a) and abs(b)<1:\n",
    "                    x.append([a,b])\n",
    "            X.extend(x)\n",
    "        X = np.array(X)[:N]\n",
    "        return X\n",
    " \n",
    "    def plot_board(self, fig_size=(10,7) ):\n",
    "        X = self.X\n",
    "        fig = plt.figure(figsize = fig_size)\n",
    "        plt.xlim(-1,1)\n",
    "        plt.ylim(-1,1)\n",
    "        if self.mu and self.clusters:\n",
    "            mu = self.mu\n",
    "            clus = self.clusters\n",
    "            K = self.K\n",
    "            for m, clu in clus.items():\n",
    "                cs = plt.cm.spectral(1.*m/self.K)\n",
    "                plt.plot(mu[m][0], mu[m][1], 'o', marker='*', \\\n",
    "                         markersize=12, color=cs)\n",
    "                plt.plot(zip(*clus[m])[0], zip(*clus[m])[1], '.', \\\n",
    "                         markersize=8, color=cs, alpha=0.5)\n",
    "        else:\n",
    "            plt.plot(zip(*X)[0], zip(*X)[1], '.', alpha=0.5)\n",
    "        if self.method == '++':\n",
    "            tit = 'K-means++'\n",
    "        else:\n",
    "            tit = 'K-means with random initialization'\n",
    "        pars = 'N=%s, K=%s' % (str(self.N), str(self.K))\n",
    "        plt.title('\\n'.join([pars, tit]), fontsize=16)\n",
    "        plt.savefig('kpp_N%s_K%s.png' % (str(self.N), str(self.K)), \\\n",
    "                    bbox_inches='tight', dpi=200)\n",
    " \n",
    "    def _cluster_points(self):\n",
    "        mu = self.mu\n",
    "        clusters  = {}\n",
    "        for x in self.X:\n",
    "            bestmukey = min([(i[0], np.linalg.norm(x-mu[i[0]])) for i in enumerate(mu)], key=lambda t:t[1])[0]\n",
    "            try:\n",
    "                clusters[bestmukey].append(x)\n",
    "            except KeyError:\n",
    "                clusters[bestmukey] = [x]\n",
    "        self.clusters = clusters\n",
    " \n",
    "    def _reevaluate_centers(self):\n",
    "        clusters = self.clusters\n",
    "        newmu = []\n",
    "        keys = sorted(self.clusters.keys())\n",
    "        for k in keys:\n",
    "            newmu.append(np.mean(clusters[k], axis = 0))\n",
    "        self.mu = newmu\n",
    " \n",
    "    def _has_converged(self):\n",
    "        K = len(self.oldmu)\n",
    "        return(set([tuple(a) for a in self.mu]) == set([tuple(a) for a in self.oldmu])\n",
    "               and len(set([tuple(a) for a in self.mu])) == K)\n",
    " \n",
    "    def find_centers(self, method='random'):\n",
    "        self.method = method\n",
    "        X = self.X\n",
    "        K = self.K\n",
    "        self.oldmu = random.sample(X, K)\n",
    "        if method != '++':\n",
    "            # Initialize to K random centers\n",
    "            self.mu = random.sample(X, K)\n",
    "        while not self._has_converged():\n",
    "            self.oldmu = self.mu\n",
    "            # Assign all points in X to clusters\n",
    "            self._cluster_points()\n",
    "            # Reevaluate centers\n",
    "            self._reevaluate_centers()\n"
   ]
  },
  {
   "cell_type": "code",
   "execution_count": 3,
   "metadata": {
    "collapsed": false
   },
   "outputs": [
    {
     "ename": "TypeError",
     "evalue": "Population must be a sequence or set.  For dicts, use list(d).",
     "output_type": "error",
     "traceback": [
      "\u001b[1;31m---------------------------------------------------------------------------\u001b[0m",
      "\u001b[1;31mTypeError\u001b[0m                                 Traceback (most recent call last)",
      "\u001b[1;32m<ipython-input-3-49119834c917>\u001b[0m in \u001b[0;36m<module>\u001b[1;34m()\u001b[0m\n\u001b[0;32m      1\u001b[0m \u001b[0mkmeans\u001b[0m \u001b[1;33m=\u001b[0m \u001b[0mKMeans\u001b[0m\u001b[1;33m(\u001b[0m\u001b[1;36m3\u001b[0m\u001b[1;33m,\u001b[0m \u001b[0mN\u001b[0m\u001b[1;33m=\u001b[0m\u001b[1;36m200\u001b[0m\u001b[1;33m)\u001b[0m\u001b[1;33m\u001b[0m\u001b[0m\n\u001b[1;32m----> 2\u001b[1;33m \u001b[0mkmeans\u001b[0m\u001b[1;33m.\u001b[0m\u001b[0mfind_centers\u001b[0m\u001b[1;33m(\u001b[0m\u001b[1;33m)\u001b[0m\u001b[1;33m\u001b[0m\u001b[0m\n\u001b[0m\u001b[0;32m      3\u001b[0m \u001b[0mkmeans\u001b[0m\u001b[1;33m.\u001b[0m\u001b[0mplot_board\u001b[0m\u001b[1;33m(\u001b[0m\u001b[0mfig_size\u001b[0m\u001b[1;33m=\u001b[0m\u001b[1;33m(\u001b[0m\u001b[1;36m10\u001b[0m\u001b[1;33m,\u001b[0m\u001b[1;36m7\u001b[0m\u001b[1;33m)\u001b[0m\u001b[1;33m)\u001b[0m\u001b[1;33m\u001b[0m\u001b[0m\n",
      "\u001b[1;32m<ipython-input-2-4e9fc1820e36>\u001b[0m in \u001b[0;36mfind_centers\u001b[1;34m(self, method)\u001b[0m\n\u001b[0;32m     82\u001b[0m         \u001b[0mX\u001b[0m \u001b[1;33m=\u001b[0m \u001b[0mself\u001b[0m\u001b[1;33m.\u001b[0m\u001b[0mX\u001b[0m\u001b[1;33m\u001b[0m\u001b[0m\n\u001b[0;32m     83\u001b[0m         \u001b[0mK\u001b[0m \u001b[1;33m=\u001b[0m \u001b[0mself\u001b[0m\u001b[1;33m.\u001b[0m\u001b[0mK\u001b[0m\u001b[1;33m\u001b[0m\u001b[0m\n\u001b[1;32m---> 84\u001b[1;33m         \u001b[0mself\u001b[0m\u001b[1;33m.\u001b[0m\u001b[0moldmu\u001b[0m \u001b[1;33m=\u001b[0m \u001b[0mrandom\u001b[0m\u001b[1;33m.\u001b[0m\u001b[0msample\u001b[0m\u001b[1;33m(\u001b[0m\u001b[0mX\u001b[0m\u001b[1;33m,\u001b[0m \u001b[0mK\u001b[0m\u001b[1;33m)\u001b[0m\u001b[1;33m\u001b[0m\u001b[0m\n\u001b[0m\u001b[0;32m     85\u001b[0m         \u001b[1;32mif\u001b[0m \u001b[0mmethod\u001b[0m \u001b[1;33m!=\u001b[0m \u001b[1;34m'++'\u001b[0m\u001b[1;33m:\u001b[0m\u001b[1;33m\u001b[0m\u001b[0m\n\u001b[0;32m     86\u001b[0m             \u001b[1;31m# Initialize to K random centers\u001b[0m\u001b[1;33m\u001b[0m\u001b[1;33m\u001b[0m\u001b[0m\n",
      "\u001b[1;32m/usr/lib/python3.5/random.py\u001b[0m in \u001b[0;36msample\u001b[1;34m(self, population, k)\u001b[0m\n\u001b[0;32m    309\u001b[0m             \u001b[0mpopulation\u001b[0m \u001b[1;33m=\u001b[0m \u001b[0mtuple\u001b[0m\u001b[1;33m(\u001b[0m\u001b[0mpopulation\u001b[0m\u001b[1;33m)\u001b[0m\u001b[1;33m\u001b[0m\u001b[0m\n\u001b[0;32m    310\u001b[0m         \u001b[1;32mif\u001b[0m \u001b[1;32mnot\u001b[0m \u001b[0misinstance\u001b[0m\u001b[1;33m(\u001b[0m\u001b[0mpopulation\u001b[0m\u001b[1;33m,\u001b[0m \u001b[0m_Sequence\u001b[0m\u001b[1;33m)\u001b[0m\u001b[1;33m:\u001b[0m\u001b[1;33m\u001b[0m\u001b[0m\n\u001b[1;32m--> 311\u001b[1;33m             \u001b[1;32mraise\u001b[0m \u001b[0mTypeError\u001b[0m\u001b[1;33m(\u001b[0m\u001b[1;34m\"Population must be a sequence or set.  For dicts, use list(d).\"\u001b[0m\u001b[1;33m)\u001b[0m\u001b[1;33m\u001b[0m\u001b[0m\n\u001b[0m\u001b[0;32m    312\u001b[0m         \u001b[0mrandbelow\u001b[0m \u001b[1;33m=\u001b[0m \u001b[0mself\u001b[0m\u001b[1;33m.\u001b[0m\u001b[0m_randbelow\u001b[0m\u001b[1;33m\u001b[0m\u001b[0m\n\u001b[0;32m    313\u001b[0m         \u001b[0mn\u001b[0m \u001b[1;33m=\u001b[0m \u001b[0mlen\u001b[0m\u001b[1;33m(\u001b[0m\u001b[0mpopulation\u001b[0m\u001b[1;33m)\u001b[0m\u001b[1;33m\u001b[0m\u001b[0m\n",
      "\u001b[1;31mTypeError\u001b[0m: Population must be a sequence or set.  For dicts, use list(d)."
     ]
    }
   ],
   "source": [
    "kmeans = KMeans(3, N=200)\n",
    "kmeans.find_centers()\n",
    "kmeans.plot_board(fig_size=(10,7))"
   ]
  },
  {
   "cell_type": "code",
   "execution_count": null,
   "metadata": {
    "collapsed": true
   },
   "outputs": [],
   "source": []
  }
 ],
 "metadata": {
  "kernelspec": {
   "display_name": "Python 3",
   "language": "python",
   "name": "python3"
  },
  "language_info": {
   "codemirror_mode": {
    "name": "ipython",
    "version": 3
   },
   "file_extension": ".py",
   "mimetype": "text/x-python",
   "name": "python",
   "nbconvert_exporter": "python",
   "pygments_lexer": "ipython3",
   "version": "3.5.1"
  }
 },
 "nbformat": 4,
 "nbformat_minor": 0
}
